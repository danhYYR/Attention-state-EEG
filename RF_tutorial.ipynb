{
 "cells": [
  {
   "cell_type": "code",
   "execution_count": 1,
   "id": "d9331d77",
   "metadata": {},
   "outputs": [
    {
     "ename": "KeyboardInterrupt",
     "evalue": "",
     "output_type": "error",
     "traceback": [
      "\u001b[1;31m---------------------------------------------------------------------------\u001b[0m",
      "\u001b[1;31mKeyboardInterrupt\u001b[0m                         Traceback (most recent call last)",
      "\u001b[1;32m~\\AppData\\Local\\Temp/ipykernel_6256/2784104871.py\u001b[0m in \u001b[0;36m<module>\u001b[1;34m\u001b[0m\n\u001b[1;32m----> 1\u001b[1;33m \u001b[1;32mimport\u001b[0m \u001b[0mpandas\u001b[0m \u001b[1;32mas\u001b[0m \u001b[0mpd\u001b[0m\u001b[1;33m\u001b[0m\u001b[1;33m\u001b[0m\u001b[0m\n\u001b[0m\u001b[0;32m      2\u001b[0m \u001b[1;32mimport\u001b[0m \u001b[0mnumpy\u001b[0m \u001b[1;32mas\u001b[0m \u001b[0mnp\u001b[0m\u001b[1;33m\u001b[0m\u001b[1;33m\u001b[0m\u001b[0m\n\u001b[0;32m      3\u001b[0m \u001b[1;32mfrom\u001b[0m \u001b[0msklearn\u001b[0m \u001b[1;32mimport\u001b[0m \u001b[0mtree\u001b[0m\u001b[1;33m\u001b[0m\u001b[1;33m\u001b[0m\u001b[0m\n\u001b[0;32m      4\u001b[0m \u001b[1;32mfrom\u001b[0m \u001b[0msklearn\u001b[0m\u001b[1;33m.\u001b[0m\u001b[0mtree\u001b[0m \u001b[1;32mimport\u001b[0m \u001b[0mDecisionTreeClassifier\u001b[0m\u001b[1;33m\u001b[0m\u001b[1;33m\u001b[0m\u001b[0m\n\u001b[0;32m      5\u001b[0m \u001b[1;32mimport\u001b[0m \u001b[0mmatplotlib\u001b[0m\u001b[1;33m.\u001b[0m\u001b[0mpyplot\u001b[0m \u001b[1;32mas\u001b[0m \u001b[0mplt\u001b[0m\u001b[1;33m\u001b[0m\u001b[1;33m\u001b[0m\u001b[0m\n",
      "\u001b[1;32mD:\\Software\\Anaconda\\lib\\site-packages\\pandas\\__init__.py\u001b[0m in \u001b[0;36m<module>\u001b[1;34m\u001b[0m\n\u001b[0;32m      9\u001b[0m \u001b[1;32mfor\u001b[0m \u001b[0mdependency\u001b[0m \u001b[1;32min\u001b[0m \u001b[0mhard_dependencies\u001b[0m\u001b[1;33m:\u001b[0m\u001b[1;33m\u001b[0m\u001b[1;33m\u001b[0m\u001b[0m\n\u001b[0;32m     10\u001b[0m     \u001b[1;32mtry\u001b[0m\u001b[1;33m:\u001b[0m\u001b[1;33m\u001b[0m\u001b[1;33m\u001b[0m\u001b[0m\n\u001b[1;32m---> 11\u001b[1;33m         \u001b[0m__import__\u001b[0m\u001b[1;33m(\u001b[0m\u001b[0mdependency\u001b[0m\u001b[1;33m)\u001b[0m\u001b[1;33m\u001b[0m\u001b[1;33m\u001b[0m\u001b[0m\n\u001b[0m\u001b[0;32m     12\u001b[0m     \u001b[1;32mexcept\u001b[0m \u001b[0mImportError\u001b[0m \u001b[1;32mas\u001b[0m \u001b[0me\u001b[0m\u001b[1;33m:\u001b[0m\u001b[1;33m\u001b[0m\u001b[1;33m\u001b[0m\u001b[0m\n\u001b[0;32m     13\u001b[0m         \u001b[0mmissing_dependencies\u001b[0m\u001b[1;33m.\u001b[0m\u001b[0mappend\u001b[0m\u001b[1;33m(\u001b[0m\u001b[1;34mf\"{dependency}: {e}\"\u001b[0m\u001b[1;33m)\u001b[0m\u001b[1;33m\u001b[0m\u001b[1;33m\u001b[0m\u001b[0m\n",
      "\u001b[1;32mD:\\Software\\Anaconda\\lib\\site-packages\\numpy\\__init__.py\u001b[0m in \u001b[0;36m<module>\u001b[1;34m\u001b[0m\n\u001b[0;32m    325\u001b[0m \u001b[1;33m\u001b[0m\u001b[0m\n\u001b[0;32m    326\u001b[0m     \u001b[1;32mimport\u001b[0m \u001b[0mmkl\u001b[0m\u001b[1;33m\u001b[0m\u001b[1;33m\u001b[0m\u001b[0m\n\u001b[1;32m--> 327\u001b[1;33m     \u001b[0m__mkl_version__\u001b[0m \u001b[1;33m=\u001b[0m \u001b[1;34m\"{MajorVersion}.{MinorVersion}.{UpdateVersion}\"\u001b[0m\u001b[1;33m.\u001b[0m\u001b[0mformat\u001b[0m\u001b[1;33m(\u001b[0m\u001b[1;33m**\u001b[0m\u001b[0mmkl\u001b[0m\u001b[1;33m.\u001b[0m\u001b[0mget_version\u001b[0m\u001b[1;33m(\u001b[0m\u001b[1;33m)\u001b[0m\u001b[1;33m)\u001b[0m\u001b[1;33m\u001b[0m\u001b[1;33m\u001b[0m\u001b[0m\n\u001b[0m\u001b[0;32m    328\u001b[0m \u001b[1;33m\u001b[0m\u001b[0m\n\u001b[0;32m    329\u001b[0m \u001b[1;33m\u001b[0m\u001b[0m\n",
      "\u001b[1;31mKeyboardInterrupt\u001b[0m: "
     ]
    }
   ],
   "source": [
    "import pandas as pd\n",
    "import numpy as np\n",
    "from sklearn import tree\n",
    "from sklearn.tree import DecisionTreeClassifier\n",
    "import matplotlib.pyplot as plt\n"
   ]
  },
  {
   "cell_type": "code",
   "execution_count": null,
   "id": "04d2df76",
   "metadata": {},
   "outputs": [],
   "source": [
    "df = pd.read_csv(\"Respone.csv\",encoding = \"ISO-8859-1\")\n",
    "df=df.dropna(axis='columns')\n",
    "print(df)"
   ]
  },
  {
   "cell_type": "code",
   "execution_count": 43,
   "id": "87b1ac59",
   "metadata": {},
   "outputs": [
    {
     "name": "stdout",
     "output_type": "stream",
     "text": [
      "              Timestamp  B?n ?ã tham gia ?o ?i?n não ch?a  \\\n",
      "0   10/16/2022 23:02:10                                 1   \n",
      "1   10/16/2022 23:03:06                                 0   \n",
      "2   10/16/2022 23:06:57                                 1   \n",
      "3   10/17/2022 16:02:07                                 1   \n",
      "4   10/17/2022 16:02:26                                 0   \n",
      "5   10/25/2022 14:03:10                                 1   \n",
      "6   10/25/2022 14:04:36                                 0   \n",
      "7   10/25/2022 14:05:21                                 1   \n",
      "8   10/25/2022 14:06:12                                 1   \n",
      "9   10/25/2022 14:06:48                                 1   \n",
      "10  10/25/2022 14:07:14                                 0   \n",
      "11  10/25/2022 14:07:47                                 0   \n",
      "12  10/25/2022 16:11:47                                 1   \n",
      "\n",
      "    Ng??i k? thu?t viên chính (th??ng là Danh)  Giá tr? món quà (*10k VN?)  \\\n",
      "0                                            2                          10   \n",
      "1                                            4                          10   \n",
      "2                                            9                          10   \n",
      "3                                            3                          10   \n",
      "4                                            3                          10   \n",
      "5                                            7                          10   \n",
      "6                                            0                          10   \n",
      "7                                            1                          10   \n",
      "8                                            5                           1   \n",
      "9                                            1                          10   \n",
      "10                                           6                          10   \n",
      "11                                           8                          10   \n",
      "12                                           4                          10   \n",
      "\n",
      "    Kho?ng th?i gian m?t l?n ?o (gi?)  \\\n",
      "0                                   1   \n",
      "1                                   2   \n",
      "2                                   1   \n",
      "3                                   1   \n",
      "4                                   3   \n",
      "5                                   1   \n",
      "6                                   3   \n",
      "7                                   1   \n",
      "8                                   1   \n",
      "9                                   3   \n",
      "10                                  3   \n",
      "11                                  3   \n",
      "12                                  1   \n",
      "\n",
      "    B?n có mu?n tham gia ?o sau khi th?c hi?n kh?o sát này không  \n",
      "0                                                   0             \n",
      "1                                                   1             \n",
      "2                                                   0             \n",
      "3                                                   0             \n",
      "4                                                   0             \n",
      "5                                                   0             \n",
      "6                                                   0             \n",
      "7                                                   0             \n",
      "8                                                   0             \n",
      "9                                                   0             \n",
      "10                                                  1             \n",
      "11                                                  0             \n",
      "12                                                  0             \n"
     ]
    }
   ],
   "source": [
    "d = {'Không': 0, 'Có': 1}\n",
    "df.iloc[:,-1]=df.iloc[:,-1].map(d)\n",
    "df.iloc[:,1]=df.iloc[:,1].astype('category').cat.codes\n",
    "df.iloc[:,2]=df.iloc[:,2].astype('category').cat.codes\n",
    "print(df)"
   ]
  },
  {
   "cell_type": "code",
   "execution_count": null,
   "id": "cacf9711",
   "metadata": {},
   "outputs": [],
   "source": [
    "X=df.iloc[:,[1,-2]]\n",
    "Y=df.iloc[:,-1]"
   ]
  },
  {
   "cell_type": "code",
   "execution_count": null,
   "id": "ed27f780",
   "metadata": {},
   "outputs": [],
   "source": []
  },
  {
   "cell_type": "code",
   "execution_count": 50,
   "id": "4159caf9",
   "metadata": {},
   "outputs": [
    {
     "data": {
      "text/plain": [
       "[Text(200.88000000000002, 181.2, 'Experience <= 0.5\\ngini = 0.26\\nsamples = 13\\nvalue = [11, 2]'),\n",
       " Text(133.92000000000002, 108.72, 'Physican <= 2.5\\ngini = 0.48\\nsamples = 5\\nvalue = [3, 2]'),\n",
       " Text(66.96000000000001, 36.23999999999998, 'gini = 0.0\\nsamples = 1\\nvalue = [0, 1]'),\n",
       " Text(200.88000000000002, 36.23999999999998, 'gini = 0.375\\nsamples = 4\\nvalue = [3, 1]'),\n",
       " Text(267.84000000000003, 108.72, 'gini = 0.0\\nsamples = 8\\nvalue = [8, 0]')]"
      ]
     },
     "execution_count": 50,
     "metadata": {},
     "output_type": "execute_result"
    },
    {
     "data": {
      "image/png": "[encoded data removed]",
      "text/plain": [
       "<Figure size 432x288 with 1 Axes>"
      ]
     },
     "metadata": {
      "needs_background": "light"
     },
     "output_type": "display_data"
    }
   ],
   "source": [
    "dtree = DecisionTreeClassifier()\n",
    "dtree = dtree.fit(X, Y)\n",
    "features=['Experience','Physican','Reward','Duration']\n",
    "tree.plot_tree(dtree, feature_names=features)"
   ]
  }
 ],
 "metadata": {
  "kernelspec": {
   "display_name": "Python 3 (ipykernel)",
   "language": "python",
   "name": "python3"
  },
  "language_info": {
   "codemirror_mode": {
    "name": "ipython",
    "version": 3
   },
   "file_extension": ".py",
   "mimetype": "text/x-python",
   "name": "python",
   "nbconvert_exporter": "python",
   "pygments_lexer": "ipython3",
   "version": "3.9.7"
  }
 },
 "nbformat": 4,
 "nbformat_minor": 5
}
